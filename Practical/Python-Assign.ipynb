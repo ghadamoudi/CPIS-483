{
 "cells": [
  {
   "cell_type": "markdown",
   "metadata": {},
   "source": [
    "# Assignment 1"
   ]
  },
  {
   "cell_type": "markdown",
   "metadata": {},
   "source": [
    "### Pyhton Introduction Questions"
   ]
  },
  {
   "cell_type": "markdown",
   "metadata": {},
   "source": [
    "1. Print each list question with its correctly matching answer, in the form:\n",
    "\n",
    "    Q: question <br>\n",
    "    A: answer"
   ]
  },
  {
   "cell_type": "code",
   "execution_count": null,
   "metadata": {},
   "outputs": [],
   "source": [
    "questions = [\n",
    "\"We don't serve strings around here. Are you a string?\",\n",
    "\"What is said on Father's Day in the forest?\",\n",
    "\"What makes the sound 'Sis! Boom! Bah!'?\"\n",
    "]\n",
    "answers = [\n",
    "\"An exploding sheep.\",\n",
    "\"No, I'm a frayed knot.\",\n",
    "\"'Pop!' goes the weasel.\"\n",
    "]"
   ]
  },
  {
   "cell_type": "markdown",
   "metadata": {},
   "source": [
    "2. Assign the value 5 to the variable guess_me. Use a for loop to iterate a variable called number over range(10). If number is less than guess_me, print 'too low'. If it equals guess_me, print found it! and then break out of the for loop. If number is greater than guess_me, print 'oops' and then exit the loop."
   ]
  },
  {
   "cell_type": "markdown",
   "metadata": {},
   "source": [
    "3. Create a list called surprise with the elements \"Groucho\", \"Chico\", and \"Harpo\". Lowercase the last element of the surprise list, reverse it, and then capitalize it."
   ]
  },
  {
   "cell_type": "markdown",
   "metadata": {},
   "source": [
    "4. Use a list comprehension to make a list called even of the even numbers in range(10)."
   ]
  },
  {
   "cell_type": "markdown",
   "metadata": {},
   "source": [
    "5. Write a Python function that takes a list and returns a new list with unique elements of the first list."
   ]
  },
  {
   "cell_type": "markdown",
   "metadata": {},
   "source": [
    "### NetworkX Questions"
   ]
  },
  {
   "cell_type": "markdown",
   "metadata": {},
   "source": [
    "Use the Facebook dataset, or find any other publicly available dataset (bonus++) and conduct the following:\n",
    "\n",
    "1. Get the general descriptive statistics of the data, the number of nodes, edges, and the number of components.\n",
    "2. Find the whole network's average clustering coefficient using the two methods, the average, and transitivity. \n",
    "3. Find the distance measures discussed in lecture notes (chapter two - part two). These are average distance, eccentricity, diameter, periphery, radius, and center.\n",
    "4. Find, hubs, authorities and PageRank score of the top ten.\n",
    "5. Finally, you should organize your work in a Jupyter notebook and use headings, subheadings, and paragraphs to document and comment on your experiments. Make sure to explain the results in plain English and the meaning of the results.\n",
    "\n",
    "Note: if the dataset is huge, the running may be slow, so you can reduce the size of the dataset by applying random sampling. (As shown to you in the tutorial)\n",
    "\n",
    "Important Links:\n",
    "\n",
    "You can watch these videos for help, link: https://www.coursera.org/learn/python-social-network-analysis/home/welcome\n",
    "\n",
    "Sample datasets (you can use other datasets): https://snap.stanford.edu/data/#socnets\n"
   ]
  },
  {
   "cell_type": "code",
   "execution_count": null,
   "metadata": {},
   "outputs": [],
   "source": []
  }
 ],
 "metadata": {
  "kernelspec": {
   "display_name": "Python 3",
   "language": "python",
   "name": "python3"
  },
  "language_info": {
   "codemirror_mode": {
    "name": "ipython",
    "version": 3
   },
   "file_extension": ".py",
   "mimetype": "text/x-python",
   "name": "python",
   "nbconvert_exporter": "python",
   "pygments_lexer": "ipython3",
   "version": "3.7.4"
  }
 },
 "nbformat": 4,
 "nbformat_minor": 2
}
